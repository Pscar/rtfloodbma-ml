{
 "cells": [
  {
   "cell_type": "code",
   "execution_count": 1,
   "id": "b7b19b87",
   "metadata": {},
   "outputs": [],
   "source": [
    "import numpy as np\n",
    "import pandas as pd\n",
    "import matplotlib.pyplot as plt\n",
    "import requests\n",
    "from pandas import json_normalize\n",
    "\n"
   ]
  },
  {
   "cell_type": "code",
   "execution_count": null,
   "id": "a0d93f44",
   "metadata": {},
   "outputs": [],
   "source": [
    "url='https://www.rtfloodbma.com/api/rains';\n",
    "data_rains=pd.read_json(url,orient='columns')\n",
    "data_rains"
   ]
  },
  {
   "cell_type": "code",
   "execution_count": null,
   "id": "49f1ec8e",
   "metadata": {},
   "outputs": [],
   "source": [
    "url='https://www.rtfloodbma.com/api/waters';\n",
    "data_waters=pd.read_json(url,orient='columns')\n",
    "data_waters"
   ]
  },
  {
   "cell_type": "markdown",
   "id": "480ff162",
   "metadata": {},
   "source": [
    "เข้าถึง list ที่มี key station"
   ]
  },
  {
   "cell_type": "code",
   "execution_count": null,
   "id": "d58147f2",
   "metadata": {},
   "outputs": [],
   "source": [
    "station=pd.DataFrame(data_rains.data.values.tolist())['station']\n",
    "pd.DataFrame(station).from_records(station)\n",
    "pd.json_normalize(station)"
   ]
  },
  {
   "cell_type": "code",
   "execution_count": null,
   "id": "a3e1fd1e",
   "metadata": {},
   "outputs": [],
   "source": [
    "waters = pd.DataFrame(data_waters.data.values.tolist())\n",
    "pd.DataFrame(waters).from_records(waters)"
   ]
  },
  {
   "cell_type": "code",
   "execution_count": null,
   "id": "ef656d7f",
   "metadata": {},
   "outputs": [],
   "source": [
    "rainfall_datetime = pd.DataFrame(data_rains.data.values.tolist())['rainfall_datetime']\n",
    "rainfall_datetime"
   ]
  },
  {
   "cell_type": "code",
   "execution_count": null,
   "id": "2fe00285",
   "metadata": {},
   "outputs": [],
   "source": [
    "rain_24h = pd.DataFrame(data_rains.data.values.tolist())['rain_24h']\n",
    "rain_24h"
   ]
  },
  {
   "cell_type": "code",
   "execution_count": null,
   "id": "f0268a82",
   "metadata": {},
   "outputs": [],
   "source": [
    "waterlevel_msl = pd.DataFrame(data_waters.data.values.tolist())['waterlevel_msl']\n",
    "waterlevel_msl"
   ]
  },
  {
   "cell_type": "markdown",
   "id": "b1f4d18f",
   "metadata": {},
   "source": [
    "แปลง dtype:object ไปเป็น float"
   ]
  },
  {
   "cell_type": "code",
   "execution_count": null,
   "id": "f50db01e",
   "metadata": {},
   "outputs": [],
   "source": [
    "x=pd.concat([rain_24h, waterlevel_msl],axis=0,ignore_index=True).astype(float)\n",
    "x"
   ]
  },
  {
   "cell_type": "code",
   "execution_count": null,
   "id": "f458f271",
   "metadata": {
    "scrolled": true
   },
   "outputs": [],
   "source": [
    "dc=pd.concat([pd.Series(rainfall_datetime,name=\"date\"),pd.DataFrame(json_normalize(station)),pd.Series(x,name=\"value\")],axis=1)\n",
    "dc"
   ]
  },
  {
   "cell_type": "code",
   "execution_count": null,
   "id": "d5ee24e4",
   "metadata": {
    "scrolled": false
   },
   "outputs": [],
   "source": [
    "table=dc.drop(columns=['id','tele_station_oldcode','tele_station_type','tele_station_lat','tele_station_long','sub_basin_id'],axis=1)\n",
    "table"
   ]
  },
  {
   "cell_type": "code",
   "execution_count": null,
   "id": "6df85793",
   "metadata": {},
   "outputs": [],
   "source": [
    "final=dc.reset_index().pivot_table(index=['date'],columns=['tele_station_name.th'],values=['value']).fillna(0)\n",
    "final"
   ]
  },
  {
   "cell_type": "markdown",
   "id": "d84425dc",
   "metadata": {},
   "source": [
    "https://blog.datath.com/cheatsheet-pandas/\n",
    "https://www.analyticsvidhya.com/blog/2020/03/pivot-table-pandas-python/"
   ]
  }
 ],
 "metadata": {
  "kernelspec": {
   "display_name": "Python 3 (ipykernel)",
   "language": "python",
   "name": "python3"
  },
  "language_info": {
   "codemirror_mode": {
    "name": "ipython",
    "version": 3
   },
   "file_extension": ".py",
   "mimetype": "text/x-python",
   "name": "python",
   "nbconvert_exporter": "python",
   "pygments_lexer": "ipython3",
   "version": "3.9.6"
  }
 },
 "nbformat": 4,
 "nbformat_minor": 5
}
